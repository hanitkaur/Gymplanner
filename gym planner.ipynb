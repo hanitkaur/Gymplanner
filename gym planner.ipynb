{
 "cells": [
  {
   "cell_type": "code",
   "execution_count": 1,
   "id": "36523735",
   "metadata": {},
   "outputs": [
    {
     "name": "stdout",
     "output_type": "stream",
     "text": [
      "Collecting streamlit\n",
      "  Downloading streamlit-1.8.1-py2.py3-none-any.whl (10.1 MB)\n",
      "Requirement already satisfied: toml in c:\\users\\91829\\anaconda3\\lib\\site-packages (from streamlit) (0.10.2)\n",
      "Requirement already satisfied: attrs in c:\\users\\91829\\anaconda3\\lib\\site-packages (from streamlit) (21.2.0)\n",
      "Requirement already satisfied: click<8.1,>=7.0 in c:\\users\\91829\\anaconda3\\lib\\site-packages (from streamlit) (8.0.3)\n",
      "Requirement already satisfied: importlib-metadata>=1.4 in c:\\users\\91829\\anaconda3\\lib\\site-packages (from streamlit) (4.8.1)\n",
      "Requirement already satisfied: tornado>=5.0 in c:\\users\\91829\\anaconda3\\lib\\site-packages (from streamlit) (6.1)\n",
      "Collecting tzlocal\n",
      "  Downloading tzlocal-4.2-py3-none-any.whl (19 kB)\n",
      "Collecting gitpython!=3.1.19\n",
      "  Downloading GitPython-3.1.27-py3-none-any.whl (181 kB)\n",
      "Collecting blinker\n",
      "  Downloading blinker-1.4.tar.gz (111 kB)\n",
      "Requirement already satisfied: python-dateutil in c:\\users\\91829\\anaconda3\\lib\\site-packages (from streamlit) (2.8.2)\n",
      "Requirement already satisfied: pandas>=0.21.0 in c:\\users\\91829\\anaconda3\\lib\\site-packages (from streamlit) (1.3.4)\n",
      "Collecting validators\n",
      "  Downloading validators-0.18.2-py3-none-any.whl (19 kB)\n",
      "Requirement already satisfied: pillow>=6.2.0 in c:\\users\\91829\\anaconda3\\lib\\site-packages (from streamlit) (8.4.0)\n",
      "Collecting pympler>=0.9\n",
      "  Downloading Pympler-1.0.1-py3-none-any.whl (164 kB)\n",
      "Requirement already satisfied: watchdog in c:\\users\\91829\\anaconda3\\lib\\site-packages (from streamlit) (2.1.3)\n",
      "Requirement already satisfied: numpy in c:\\users\\91829\\anaconda3\\lib\\site-packages (from streamlit) (1.20.3)\n",
      "Collecting semver\n",
      "  Downloading semver-2.13.0-py2.py3-none-any.whl (12 kB)\n",
      "Collecting pyarrow\n",
      "  Downloading pyarrow-7.0.0-cp39-cp39-win_amd64.whl (16.1 MB)\n",
      "Collecting protobuf!=3.11,>=3.6.0\n",
      "  Downloading protobuf-3.20.0-cp39-cp39-win_amd64.whl (904 kB)\n",
      "Collecting pydeck>=0.1.dev5\n",
      "  Downloading pydeck-0.7.1-py2.py3-none-any.whl (4.3 MB)\n",
      "Collecting cachetools>=4.0\n",
      "  Downloading cachetools-5.0.0-py3-none-any.whl (9.1 kB)\n",
      "Requirement already satisfied: packaging in c:\\users\\91829\\anaconda3\\lib\\site-packages (from streamlit) (21.0)\n",
      "Collecting altair>=3.2.0\n",
      "  Downloading altair-4.2.0-py3-none-any.whl (812 kB)\n",
      "Requirement already satisfied: requests in c:\\users\\91829\\anaconda3\\lib\\site-packages (from streamlit) (2.26.0)\n",
      "Requirement already satisfied: entrypoints in c:\\users\\91829\\anaconda3\\lib\\site-packages (from altair>=3.2.0->streamlit) (0.3)\n",
      "Requirement already satisfied: toolz in c:\\users\\91829\\anaconda3\\lib\\site-packages (from altair>=3.2.0->streamlit) (0.11.1)\n",
      "Requirement already satisfied: jsonschema>=3.0 in c:\\users\\91829\\anaconda3\\lib\\site-packages (from altair>=3.2.0->streamlit) (3.2.0)\n",
      "Requirement already satisfied: jinja2 in c:\\users\\91829\\anaconda3\\lib\\site-packages (from altair>=3.2.0->streamlit) (2.11.3)\n",
      "Requirement already satisfied: colorama in c:\\users\\91829\\anaconda3\\lib\\site-packages (from click<8.1,>=7.0->streamlit) (0.4.4)\n",
      "Collecting gitdb<5,>=4.0.1\n",
      "  Downloading gitdb-4.0.9-py3-none-any.whl (63 kB)\n",
      "Collecting smmap<6,>=3.0.1\n",
      "  Downloading smmap-5.0.0-py3-none-any.whl (24 kB)\n",
      "Requirement already satisfied: zipp>=0.5 in c:\\users\\91829\\anaconda3\\lib\\site-packages (from importlib-metadata>=1.4->streamlit) (3.6.0)\n",
      "Requirement already satisfied: setuptools in c:\\users\\91829\\anaconda3\\lib\\site-packages (from jsonschema>=3.0->altair>=3.2.0->streamlit) (58.0.4)\n",
      "Requirement already satisfied: six>=1.11.0 in c:\\users\\91829\\anaconda3\\lib\\site-packages (from jsonschema>=3.0->altair>=3.2.0->streamlit) (1.16.0)\n",
      "Requirement already satisfied: pyrsistent>=0.14.0 in c:\\users\\91829\\anaconda3\\lib\\site-packages (from jsonschema>=3.0->altair>=3.2.0->streamlit) (0.18.0)\n",
      "Requirement already satisfied: pytz>=2017.3 in c:\\users\\91829\\anaconda3\\lib\\site-packages (from pandas>=0.21.0->streamlit) (2021.3)\n",
      "Requirement already satisfied: ipywidgets>=7.0.0 in c:\\users\\91829\\anaconda3\\lib\\site-packages (from pydeck>=0.1.dev5->streamlit) (7.6.5)\n",
      "Requirement already satisfied: ipykernel>=5.1.2 in c:\\users\\91829\\anaconda3\\lib\\site-packages (from pydeck>=0.1.dev5->streamlit) (6.4.1)\n",
      "Requirement already satisfied: traitlets>=4.3.2 in c:\\users\\91829\\anaconda3\\lib\\site-packages (from pydeck>=0.1.dev5->streamlit) (5.1.0)\n",
      "Requirement already satisfied: matplotlib-inline<0.2.0,>=0.1.0 in c:\\users\\91829\\anaconda3\\lib\\site-packages (from ipykernel>=5.1.2->pydeck>=0.1.dev5->streamlit) (0.1.2)\n",
      "Requirement already satisfied: jupyter-client<8.0 in c:\\users\\91829\\anaconda3\\lib\\site-packages (from ipykernel>=5.1.2->pydeck>=0.1.dev5->streamlit) (6.1.12)\n",
      "Requirement already satisfied: ipython-genutils in c:\\users\\91829\\anaconda3\\lib\\site-packages (from ipykernel>=5.1.2->pydeck>=0.1.dev5->streamlit) (0.2.0)\n",
      "Requirement already satisfied: debugpy<2.0,>=1.0.0 in c:\\users\\91829\\anaconda3\\lib\\site-packages (from ipykernel>=5.1.2->pydeck>=0.1.dev5->streamlit) (1.4.1)Note: you may need to restart the kernel to use updated packages.\n",
      "\n",
      "Requirement already satisfied: ipython<8.0,>=7.23.1 in c:\\users\\91829\\anaconda3\\lib\\site-packages (from ipykernel>=5.1.2->pydeck>=0.1.dev5->streamlit) (7.29.0)\n",
      "Requirement already satisfied: pickleshare in c:\\users\\91829\\anaconda3\\lib\\site-packages (from ipython<8.0,>=7.23.1->ipykernel>=5.1.2->pydeck>=0.1.dev5->streamlit) (0.7.5)\n",
      "Requirement already satisfied: pygments in c:\\users\\91829\\anaconda3\\lib\\site-packages (from ipython<8.0,>=7.23.1->ipykernel>=5.1.2->pydeck>=0.1.dev5->streamlit) (2.10.0)\n",
      "Requirement already satisfied: decorator in c:\\users\\91829\\anaconda3\\lib\\site-packages (from ipython<8.0,>=7.23.1->ipykernel>=5.1.2->pydeck>=0.1.dev5->streamlit) (5.1.0)\n",
      "Requirement already satisfied: jedi>=0.16 in c:\\users\\91829\\anaconda3\\lib\\site-packages (from ipython<8.0,>=7.23.1->ipykernel>=5.1.2->pydeck>=0.1.dev5->streamlit) (0.18.0)\n",
      "Requirement already satisfied: backcall in c:\\users\\91829\\anaconda3\\lib\\site-packages (from ipython<8.0,>=7.23.1->ipykernel>=5.1.2->pydeck>=0.1.dev5->streamlit) (0.2.0)\n",
      "Requirement already satisfied: prompt-toolkit!=3.0.0,!=3.0.1,<3.1.0,>=2.0.0 in c:\\users\\91829\\anaconda3\\lib\\site-packages (from ipython<8.0,>=7.23.1->ipykernel>=5.1.2->pydeck>=0.1.dev5->streamlit) (3.0.20)\n",
      "Requirement already satisfied: jupyterlab-widgets>=1.0.0 in c:\\users\\91829\\anaconda3\\lib\\site-packages (from ipywidgets>=7.0.0->pydeck>=0.1.dev5->streamlit) (1.0.0)\n",
      "Requirement already satisfied: widgetsnbextension~=3.5.0 in c:\\users\\91829\\anaconda3\\lib\\site-packages (from ipywidgets>=7.0.0->pydeck>=0.1.dev5->streamlit) (3.5.1)\n",
      "Requirement already satisfied: nbformat>=4.2.0 in c:\\users\\91829\\anaconda3\\lib\\site-packages (from ipywidgets>=7.0.0->pydeck>=0.1.dev5->streamlit) (5.1.3)\n",
      "Requirement already satisfied: parso<0.9.0,>=0.8.0 in c:\\users\\91829\\anaconda3\\lib\\site-packages (from jedi>=0.16->ipython<8.0,>=7.23.1->ipykernel>=5.1.2->pydeck>=0.1.dev5->streamlit) (0.8.2)\n",
      "Requirement already satisfied: MarkupSafe>=0.23 in c:\\users\\91829\\anaconda3\\lib\\site-packages (from jinja2->altair>=3.2.0->streamlit) (2.0.1)\n",
      "Requirement already satisfied: pyzmq>=13 in c:\\users\\91829\\anaconda3\\lib\\site-packages (from jupyter-client<8.0->ipykernel>=5.1.2->pydeck>=0.1.dev5->streamlit) (22.2.1)\n",
      "Requirement already satisfied: jupyter-core>=4.6.0 in c:\\users\\91829\\anaconda3\\lib\\site-packages (from jupyter-client<8.0->ipykernel>=5.1.2->pydeck>=0.1.dev5->streamlit) (4.8.1)\n",
      "Requirement already satisfied: pywin32>=1.0 in c:\\users\\91829\\anaconda3\\lib\\site-packages (from jupyter-core>=4.6.0->jupyter-client<8.0->ipykernel>=5.1.2->pydeck>=0.1.dev5->streamlit) (228)\n",
      "Requirement already satisfied: wcwidth in c:\\users\\91829\\anaconda3\\lib\\site-packages (from prompt-toolkit!=3.0.0,!=3.0.1,<3.1.0,>=2.0.0->ipython<8.0,>=7.23.1->ipykernel>=5.1.2->pydeck>=0.1.dev5->streamlit) (0.2.5)\n",
      "Requirement already satisfied: notebook>=4.4.1 in c:\\users\\91829\\anaconda3\\lib\\site-packages (from widgetsnbextension~=3.5.0->ipywidgets>=7.0.0->pydeck>=0.1.dev5->streamlit) (6.4.5)\n",
      "Requirement already satisfied: argon2-cffi in c:\\users\\91829\\anaconda3\\lib\\site-packages (from notebook>=4.4.1->widgetsnbextension~=3.5.0->ipywidgets>=7.0.0->pydeck>=0.1.dev5->streamlit) (20.1.0)\n",
      "Requirement already satisfied: terminado>=0.8.3 in c:\\users\\91829\\anaconda3\\lib\\site-packages (from notebook>=4.4.1->widgetsnbextension~=3.5.0->ipywidgets>=7.0.0->pydeck>=0.1.dev5->streamlit) (0.9.4)\n",
      "Requirement already satisfied: Send2Trash>=1.5.0 in c:\\users\\91829\\anaconda3\\lib\\site-packages (from notebook>=4.4.1->widgetsnbextension~=3.5.0->ipywidgets>=7.0.0->pydeck>=0.1.dev5->streamlit) (1.8.0)\n",
      "Requirement already satisfied: prometheus-client in c:\\users\\91829\\anaconda3\\lib\\site-packages (from notebook>=4.4.1->widgetsnbextension~=3.5.0->ipywidgets>=7.0.0->pydeck>=0.1.dev5->streamlit) (0.11.0)\n",
      "Requirement already satisfied: nbconvert in c:\\users\\91829\\anaconda3\\lib\\site-packages (from notebook>=4.4.1->widgetsnbextension~=3.5.0->ipywidgets>=7.0.0->pydeck>=0.1.dev5->streamlit) (6.1.0)\n",
      "Requirement already satisfied: pywinpty>=0.5 in c:\\users\\91829\\anaconda3\\lib\\site-packages (from terminado>=0.8.3->notebook>=4.4.1->widgetsnbextension~=3.5.0->ipywidgets>=7.0.0->pydeck>=0.1.dev5->streamlit) (0.5.7)\n",
      "Requirement already satisfied: cffi>=1.0.0 in c:\\users\\91829\\anaconda3\\lib\\site-packages (from argon2-cffi->notebook>=4.4.1->widgetsnbextension~=3.5.0->ipywidgets>=7.0.0->pydeck>=0.1.dev5->streamlit) (1.14.6)\n",
      "Requirement already satisfied: pycparser in c:\\users\\91829\\anaconda3\\lib\\site-packages (from cffi>=1.0.0->argon2-cffi->notebook>=4.4.1->widgetsnbextension~=3.5.0->ipywidgets>=7.0.0->pydeck>=0.1.dev5->streamlit) (2.20)\n",
      "Requirement already satisfied: defusedxml in c:\\users\\91829\\anaconda3\\lib\\site-packages (from nbconvert->notebook>=4.4.1->widgetsnbextension~=3.5.0->ipywidgets>=7.0.0->pydeck>=0.1.dev5->streamlit) (0.7.1)\n",
      "Requirement already satisfied: pandocfilters>=1.4.1 in c:\\users\\91829\\anaconda3\\lib\\site-packages (from nbconvert->notebook>=4.4.1->widgetsnbextension~=3.5.0->ipywidgets>=7.0.0->pydeck>=0.1.dev5->streamlit) (1.4.3)\n",
      "Requirement already satisfied: nbclient<0.6.0,>=0.5.0 in c:\\users\\91829\\anaconda3\\lib\\site-packages (from nbconvert->notebook>=4.4.1->widgetsnbextension~=3.5.0->ipywidgets>=7.0.0->pydeck>=0.1.dev5->streamlit) (0.5.3)\n",
      "Requirement already satisfied: jupyterlab-pygments in c:\\users\\91829\\anaconda3\\lib\\site-packages (from nbconvert->notebook>=4.4.1->widgetsnbextension~=3.5.0->ipywidgets>=7.0.0->pydeck>=0.1.dev5->streamlit) (0.1.2)\n",
      "Requirement already satisfied: testpath in c:\\users\\91829\\anaconda3\\lib\\site-packages (from nbconvert->notebook>=4.4.1->widgetsnbextension~=3.5.0->ipywidgets>=7.0.0->pydeck>=0.1.dev5->streamlit) (0.5.0)\n",
      "Requirement already satisfied: mistune<2,>=0.8.1 in c:\\users\\91829\\anaconda3\\lib\\site-packages (from nbconvert->notebook>=4.4.1->widgetsnbextension~=3.5.0->ipywidgets>=7.0.0->pydeck>=0.1.dev5->streamlit) (0.8.4)\n",
      "Requirement already satisfied: bleach in c:\\users\\91829\\anaconda3\\lib\\site-packages (from nbconvert->notebook>=4.4.1->widgetsnbextension~=3.5.0->ipywidgets>=7.0.0->pydeck>=0.1.dev5->streamlit) (4.0.0)\n",
      "Requirement already satisfied: async-generator in c:\\users\\91829\\anaconda3\\lib\\site-packages (from nbclient<0.6.0,>=0.5.0->nbconvert->notebook>=4.4.1->widgetsnbextension~=3.5.0->ipywidgets>=7.0.0->pydeck>=0.1.dev5->streamlit) (1.10)\n",
      "Requirement already satisfied: nest-asyncio in c:\\users\\91829\\anaconda3\\lib\\site-packages (from nbclient<0.6.0,>=0.5.0->nbconvert->notebook>=4.4.1->widgetsnbextension~=3.5.0->ipywidgets>=7.0.0->pydeck>=0.1.dev5->streamlit) (1.5.1)\n",
      "Requirement already satisfied: webencodings in c:\\users\\91829\\anaconda3\\lib\\site-packages (from bleach->nbconvert->notebook>=4.4.1->widgetsnbextension~=3.5.0->ipywidgets>=7.0.0->pydeck>=0.1.dev5->streamlit) (0.5.1)\n",
      "Requirement already satisfied: pyparsing>=2.0.2 in c:\\users\\91829\\anaconda3\\lib\\site-packages (from packaging->streamlit) (3.0.4)\n",
      "Requirement already satisfied: urllib3<1.27,>=1.21.1 in c:\\users\\91829\\anaconda3\\lib\\site-packages (from requests->streamlit) (1.26.7)\n",
      "Requirement already satisfied: certifi>=2017.4.17 in c:\\users\\91829\\anaconda3\\lib\\site-packages (from requests->streamlit) (2021.10.8)\n",
      "Requirement already satisfied: idna<4,>=2.5 in c:\\users\\91829\\anaconda3\\lib\\site-packages (from requests->streamlit) (3.2)\n",
      "Requirement already satisfied: charset-normalizer~=2.0.0 in c:\\users\\91829\\anaconda3\\lib\\site-packages (from requests->streamlit) (2.0.4)\n",
      "Collecting pytz-deprecation-shim\n",
      "  Downloading pytz_deprecation_shim-0.1.0.post0-py2.py3-none-any.whl (15 kB)\n",
      "Requirement already satisfied: tzdata in c:\\users\\91829\\anaconda3\\lib\\site-packages (from tzlocal->streamlit) (2021.5)\n",
      "Building wheels for collected packages: blinker\n",
      "  Building wheel for blinker (setup.py): started\n",
      "  Building wheel for blinker (setup.py): finished with status 'done'\n",
      "  Created wheel for blinker: filename=blinker-1.4-py3-none-any.whl size=13478 sha256=409d0162ba90c01bde0266de0e45f0a75822ae982e75ace225849b929aa243fb\n",
      "  Stored in directory: c:\\users\\91829\\appdata\\local\\pip\\cache\\wheels\\50\\93\\f8\\4f0a42a03a06626d675f13907b6982ad5ecff383530af5a900\n",
      "Successfully built blinker\n",
      "Installing collected packages: smmap, pytz-deprecation-shim, gitdb, validators, tzlocal, semver, pympler, pydeck, pyarrow, protobuf, gitpython, cachetools, blinker, altair, streamlit\n",
      "Successfully installed altair-4.2.0 blinker-1.4 cachetools-5.0.0 gitdb-4.0.9 gitpython-3.1.27 protobuf-3.20.0 pyarrow-7.0.0 pydeck-0.7.1 pympler-1.0.1 pytz-deprecation-shim-0.1.0.post0 semver-2.13.0 smmap-5.0.0 streamlit-1.8.1 tzlocal-4.2 validators-0.18.2\n"
     ]
    }
   ],
   "source": [
    "pip install streamlit"
   ]
  },
  {
   "cell_type": "code",
   "execution_count": 70,
   "id": "a3bba910",
   "metadata": {},
   "outputs": [],
   "source": [
    "import pandas as pd\n",
    "import numpy as np\n",
    "import seaborn as sns\n",
    "import matplotlib.pyplot as plt\n",
    "import streamlit as st\n",
    "from sklearn import metrics\n",
    "from sklearn.linear_model import LogisticRegression\n",
    "from sklearn.ensemble import RandomForestClassifier\n",
    "from sklearn.preprocessing import LabelEncoder\n",
    "from sklearn.model_selection import train_test_split\n",
    "from sklearn.tree import DecisionTreeClassifier\n",
    "from sklearn.neighbors import KNeighborsClassifier\n",
    "from sklearn.metrics import accuracy_score\n"
   ]
  },
  {
   "cell_type": "code",
   "execution_count": 71,
   "id": "e157ca6f",
   "metadata": {},
   "outputs": [
    {
     "data": {
      "text/html": [
       "<div>\n",
       "<style scoped>\n",
       "    .dataframe tbody tr th:only-of-type {\n",
       "        vertical-align: middle;\n",
       "    }\n",
       "\n",
       "    .dataframe tbody tr th {\n",
       "        vertical-align: top;\n",
       "    }\n",
       "\n",
       "    .dataframe thead th {\n",
       "        text-align: right;\n",
       "    }\n",
       "</style>\n",
       "<table border=\"1\" class=\"dataframe\">\n",
       "  <thead>\n",
       "    <tr style=\"text-align: right;\">\n",
       "      <th></th>\n",
       "      <th>Age</th>\n",
       "      <th>Height</th>\n",
       "      <th>weight</th>\n",
       "      <th>BMI</th>\n",
       "      <th>Class</th>\n",
       "      <th>Prediction</th>\n",
       "    </tr>\n",
       "  </thead>\n",
       "  <tbody>\n",
       "    <tr>\n",
       "      <th>0</th>\n",
       "      <td>48</td>\n",
       "      <td>4.1</td>\n",
       "      <td>86</td>\n",
       "      <td>40</td>\n",
       "      <td>Extremely obese</td>\n",
       "      <td>Extremely obese--normal exercise+yoga+heavy di...</td>\n",
       "    </tr>\n",
       "    <tr>\n",
       "      <th>1</th>\n",
       "      <td>53</td>\n",
       "      <td>4.1</td>\n",
       "      <td>91</td>\n",
       "      <td>42</td>\n",
       "      <td>Extremely obese</td>\n",
       "      <td>Extremely obese--normal exercise+yoga+heavy di...</td>\n",
       "    </tr>\n",
       "    <tr>\n",
       "      <th>2</th>\n",
       "      <td>42</td>\n",
       "      <td>4.1</td>\n",
       "      <td>95</td>\n",
       "      <td>44</td>\n",
       "      <td>Extremely obese</td>\n",
       "      <td>Extremely obese--normal exercise+yoga+heavy di...</td>\n",
       "    </tr>\n",
       "    <tr>\n",
       "      <th>3</th>\n",
       "      <td>48</td>\n",
       "      <td>4.1</td>\n",
       "      <td>100</td>\n",
       "      <td>46</td>\n",
       "      <td>Extremely obese</td>\n",
       "      <td>Extremely obese--normal exercise+yoga+heavy di...</td>\n",
       "    </tr>\n",
       "    <tr>\n",
       "      <th>4</th>\n",
       "      <td>22</td>\n",
       "      <td>4.1</td>\n",
       "      <td>104</td>\n",
       "      <td>48</td>\n",
       "      <td>Extremely obese</td>\n",
       "      <td>Extremely obese--normal exercise+yoga+heavy di...</td>\n",
       "    </tr>\n",
       "    <tr>\n",
       "      <th>...</th>\n",
       "      <td>...</td>\n",
       "      <td>...</td>\n",
       "      <td>...</td>\n",
       "      <td>...</td>\n",
       "      <td>...</td>\n",
       "      <td>...</td>\n",
       "    </tr>\n",
       "    <tr>\n",
       "      <th>1171</th>\n",
       "      <td>50</td>\n",
       "      <td>6.9</td>\n",
       "      <td>59</td>\n",
       "      <td>14</td>\n",
       "      <td>Under weight</td>\n",
       "      <td>Under weight--protines+carbs+normal weights -&gt;...</td>\n",
       "    </tr>\n",
       "    <tr>\n",
       "      <th>1172</th>\n",
       "      <td>49</td>\n",
       "      <td>6.9</td>\n",
       "      <td>64</td>\n",
       "      <td>15</td>\n",
       "      <td>Under weight</td>\n",
       "      <td>Under weight--protines+carbs+normal weights -&gt;...</td>\n",
       "    </tr>\n",
       "    <tr>\n",
       "      <th>1173</th>\n",
       "      <td>52</td>\n",
       "      <td>6.9</td>\n",
       "      <td>68</td>\n",
       "      <td>16</td>\n",
       "      <td>Under weight</td>\n",
       "      <td>Under weight--protines+carbs+normal weights -&gt;...</td>\n",
       "    </tr>\n",
       "    <tr>\n",
       "      <th>1174</th>\n",
       "      <td>36</td>\n",
       "      <td>6.9</td>\n",
       "      <td>73</td>\n",
       "      <td>17</td>\n",
       "      <td>Under weight</td>\n",
       "      <td>Under weight--protines+carbs+normal weights -&gt;...</td>\n",
       "    </tr>\n",
       "    <tr>\n",
       "      <th>1175</th>\n",
       "      <td>26</td>\n",
       "      <td>6.9</td>\n",
       "      <td>77</td>\n",
       "      <td>18</td>\n",
       "      <td>Under weight</td>\n",
       "      <td>Under weight--protines+carbs+normal weights -&gt;...</td>\n",
       "    </tr>\n",
       "  </tbody>\n",
       "</table>\n",
       "<p>1176 rows × 6 columns</p>\n",
       "</div>"
      ],
      "text/plain": [
       "      Age  Height  weight  BMI            Class  \\\n",
       "0      48     4.1      86   40  Extremely obese   \n",
       "1      53     4.1      91   42  Extremely obese   \n",
       "2      42     4.1      95   44  Extremely obese   \n",
       "3      48     4.1     100   46  Extremely obese   \n",
       "4      22     4.1     104   48  Extremely obese   \n",
       "...   ...     ...     ...  ...              ...   \n",
       "1171   50     6.9      59   14     Under weight   \n",
       "1172   49     6.9      64   15     Under weight   \n",
       "1173   52     6.9      68   16     Under weight   \n",
       "1174   36     6.9      73   17     Under weight   \n",
       "1175   26     6.9      77   18     Under weight   \n",
       "\n",
       "                                             Prediction  \n",
       "0     Extremely obese--normal exercise+yoga+heavy di...  \n",
       "1     Extremely obese--normal exercise+yoga+heavy di...  \n",
       "2     Extremely obese--normal exercise+yoga+heavy di...  \n",
       "3     Extremely obese--normal exercise+yoga+heavy di...  \n",
       "4     Extremely obese--normal exercise+yoga+heavy di...  \n",
       "...                                                 ...  \n",
       "1171  Under weight--protines+carbs+normal weights ->...  \n",
       "1172  Under weight--protines+carbs+normal weights ->...  \n",
       "1173  Under weight--protines+carbs+normal weights ->...  \n",
       "1174  Under weight--protines+carbs+normal weights ->...  \n",
       "1175  Under weight--protines+carbs+normal weights ->...  \n",
       "\n",
       "[1176 rows x 6 columns]"
      ]
     },
     "execution_count": 71,
     "metadata": {},
     "output_type": "execute_result"
    }
   ],
   "source": [
    "df= pd.read_excel(\"dataGYM.xlsx\")\n",
    "df"
   ]
  },
  {
   "cell_type": "code",
   "execution_count": 72,
   "id": "883ba2f6",
   "metadata": {},
   "outputs": [
    {
     "name": "stdout",
     "output_type": "stream",
     "text": [
      "<class 'pandas.core.frame.DataFrame'>\n",
      "RangeIndex: 1176 entries, 0 to 1175\n",
      "Data columns (total 6 columns):\n",
      " #   Column      Non-Null Count  Dtype  \n",
      "---  ------      --------------  -----  \n",
      " 0   Age         1176 non-null   int64  \n",
      " 1   Height      1176 non-null   float64\n",
      " 2   weight      1176 non-null   int64  \n",
      " 3   BMI         1176 non-null   int64  \n",
      " 4   Class       1176 non-null   object \n",
      " 5   Prediction  1176 non-null   object \n",
      "dtypes: float64(1), int64(3), object(2)\n",
      "memory usage: 55.2+ KB\n"
     ]
    }
   ],
   "source": [
    " # performing EDA\n",
    "df.info()"
   ]
  },
  {
   "cell_type": "code",
   "execution_count": 73,
   "id": "5b3a8a77",
   "metadata": {},
   "outputs": [
    {
     "data": {
      "text/html": [
       "<div>\n",
       "<style scoped>\n",
       "    .dataframe tbody tr th:only-of-type {\n",
       "        vertical-align: middle;\n",
       "    }\n",
       "\n",
       "    .dataframe tbody tr th {\n",
       "        vertical-align: top;\n",
       "    }\n",
       "\n",
       "    .dataframe thead th {\n",
       "        text-align: right;\n",
       "    }\n",
       "</style>\n",
       "<table border=\"1\" class=\"dataframe\">\n",
       "  <thead>\n",
       "    <tr style=\"text-align: right;\">\n",
       "      <th></th>\n",
       "      <th>Age</th>\n",
       "      <th>Height</th>\n",
       "      <th>weight</th>\n",
       "      <th>BMI</th>\n",
       "    </tr>\n",
       "  </thead>\n",
       "  <tbody>\n",
       "    <tr>\n",
       "      <th>count</th>\n",
       "      <td>1176.000000</td>\n",
       "      <td>1176.000000</td>\n",
       "      <td>1176.000000</td>\n",
       "      <td>1176.000000</td>\n",
       "    </tr>\n",
       "    <tr>\n",
       "      <th>mean</th>\n",
       "      <td>39.827381</td>\n",
       "      <td>5.690017</td>\n",
       "      <td>86.190476</td>\n",
       "      <td>28.891156</td>\n",
       "    </tr>\n",
       "    <tr>\n",
       "      <th>std</th>\n",
       "      <td>11.912659</td>\n",
       "      <td>0.743953</td>\n",
       "      <td>27.466612</td>\n",
       "      <td>11.760665</td>\n",
       "    </tr>\n",
       "    <tr>\n",
       "      <th>min</th>\n",
       "      <td>20.000000</td>\n",
       "      <td>4.100000</td>\n",
       "      <td>41.000000</td>\n",
       "      <td>9.000000</td>\n",
       "    </tr>\n",
       "    <tr>\n",
       "      <th>25%</th>\n",
       "      <td>29.000000</td>\n",
       "      <td>5.107500</td>\n",
       "      <td>64.000000</td>\n",
       "      <td>20.000000</td>\n",
       "    </tr>\n",
       "    <tr>\n",
       "      <th>50%</th>\n",
       "      <td>40.000000</td>\n",
       "      <td>5.750000</td>\n",
       "      <td>86.000000</td>\n",
       "      <td>27.000000</td>\n",
       "    </tr>\n",
       "    <tr>\n",
       "      <th>75%</th>\n",
       "      <td>50.000000</td>\n",
       "      <td>6.225000</td>\n",
       "      <td>109.000000</td>\n",
       "      <td>36.000000</td>\n",
       "    </tr>\n",
       "    <tr>\n",
       "      <th>max</th>\n",
       "      <td>60.000000</td>\n",
       "      <td>6.900000</td>\n",
       "      <td>132.000000</td>\n",
       "      <td>65.000000</td>\n",
       "    </tr>\n",
       "  </tbody>\n",
       "</table>\n",
       "</div>"
      ],
      "text/plain": [
       "               Age       Height       weight          BMI\n",
       "count  1176.000000  1176.000000  1176.000000  1176.000000\n",
       "mean     39.827381     5.690017    86.190476    28.891156\n",
       "std      11.912659     0.743953    27.466612    11.760665\n",
       "min      20.000000     4.100000    41.000000     9.000000\n",
       "25%      29.000000     5.107500    64.000000    20.000000\n",
       "50%      40.000000     5.750000    86.000000    27.000000\n",
       "75%      50.000000     6.225000   109.000000    36.000000\n",
       "max      60.000000     6.900000   132.000000    65.000000"
      ]
     },
     "execution_count": 73,
     "metadata": {},
     "output_type": "execute_result"
    }
   ],
   "source": [
    "df.describe()"
   ]
  },
  {
   "cell_type": "code",
   "execution_count": 74,
   "id": "b438282f",
   "metadata": {},
   "outputs": [],
   "source": [
    "# Perform ENCODING\n",
    "df['Class']=LabelEncoder().fit_transform(df['Class'])"
   ]
  },
  {
   "cell_type": "code",
   "execution_count": 75,
   "id": "78d03d09",
   "metadata": {},
   "outputs": [
    {
     "data": {
      "text/html": [
       "<div>\n",
       "<style scoped>\n",
       "    .dataframe tbody tr th:only-of-type {\n",
       "        vertical-align: middle;\n",
       "    }\n",
       "\n",
       "    .dataframe tbody tr th {\n",
       "        vertical-align: top;\n",
       "    }\n",
       "\n",
       "    .dataframe thead th {\n",
       "        text-align: right;\n",
       "    }\n",
       "</style>\n",
       "<table border=\"1\" class=\"dataframe\">\n",
       "  <thead>\n",
       "    <tr style=\"text-align: right;\">\n",
       "      <th></th>\n",
       "      <th>Age</th>\n",
       "      <th>Height</th>\n",
       "      <th>weight</th>\n",
       "      <th>BMI</th>\n",
       "      <th>Class</th>\n",
       "      <th>Prediction</th>\n",
       "    </tr>\n",
       "  </thead>\n",
       "  <tbody>\n",
       "    <tr>\n",
       "      <th>0</th>\n",
       "      <td>48</td>\n",
       "      <td>4.1</td>\n",
       "      <td>86</td>\n",
       "      <td>40</td>\n",
       "      <td>1</td>\n",
       "      <td>Extremely obese--normal exercise+yoga+heavy di...</td>\n",
       "    </tr>\n",
       "    <tr>\n",
       "      <th>1</th>\n",
       "      <td>53</td>\n",
       "      <td>4.1</td>\n",
       "      <td>91</td>\n",
       "      <td>42</td>\n",
       "      <td>1</td>\n",
       "      <td>Extremely obese--normal exercise+yoga+heavy di...</td>\n",
       "    </tr>\n",
       "    <tr>\n",
       "      <th>2</th>\n",
       "      <td>42</td>\n",
       "      <td>4.1</td>\n",
       "      <td>95</td>\n",
       "      <td>44</td>\n",
       "      <td>1</td>\n",
       "      <td>Extremely obese--normal exercise+yoga+heavy di...</td>\n",
       "    </tr>\n",
       "    <tr>\n",
       "      <th>3</th>\n",
       "      <td>48</td>\n",
       "      <td>4.1</td>\n",
       "      <td>100</td>\n",
       "      <td>46</td>\n",
       "      <td>1</td>\n",
       "      <td>Extremely obese--normal exercise+yoga+heavy di...</td>\n",
       "    </tr>\n",
       "    <tr>\n",
       "      <th>4</th>\n",
       "      <td>22</td>\n",
       "      <td>4.1</td>\n",
       "      <td>104</td>\n",
       "      <td>48</td>\n",
       "      <td>1</td>\n",
       "      <td>Extremely obese--normal exercise+yoga+heavy di...</td>\n",
       "    </tr>\n",
       "    <tr>\n",
       "      <th>...</th>\n",
       "      <td>...</td>\n",
       "      <td>...</td>\n",
       "      <td>...</td>\n",
       "      <td>...</td>\n",
       "      <td>...</td>\n",
       "      <td>...</td>\n",
       "    </tr>\n",
       "    <tr>\n",
       "      <th>1171</th>\n",
       "      <td>50</td>\n",
       "      <td>6.9</td>\n",
       "      <td>59</td>\n",
       "      <td>14</td>\n",
       "      <td>5</td>\n",
       "      <td>Under weight--protines+carbs+normal weights -&gt;...</td>\n",
       "    </tr>\n",
       "    <tr>\n",
       "      <th>1172</th>\n",
       "      <td>49</td>\n",
       "      <td>6.9</td>\n",
       "      <td>64</td>\n",
       "      <td>15</td>\n",
       "      <td>5</td>\n",
       "      <td>Under weight--protines+carbs+normal weights -&gt;...</td>\n",
       "    </tr>\n",
       "    <tr>\n",
       "      <th>1173</th>\n",
       "      <td>52</td>\n",
       "      <td>6.9</td>\n",
       "      <td>68</td>\n",
       "      <td>16</td>\n",
       "      <td>5</td>\n",
       "      <td>Under weight--protines+carbs+normal weights -&gt;...</td>\n",
       "    </tr>\n",
       "    <tr>\n",
       "      <th>1174</th>\n",
       "      <td>36</td>\n",
       "      <td>6.9</td>\n",
       "      <td>73</td>\n",
       "      <td>17</td>\n",
       "      <td>5</td>\n",
       "      <td>Under weight--protines+carbs+normal weights -&gt;...</td>\n",
       "    </tr>\n",
       "    <tr>\n",
       "      <th>1175</th>\n",
       "      <td>26</td>\n",
       "      <td>6.9</td>\n",
       "      <td>77</td>\n",
       "      <td>18</td>\n",
       "      <td>5</td>\n",
       "      <td>Under weight--protines+carbs+normal weights -&gt;...</td>\n",
       "    </tr>\n",
       "  </tbody>\n",
       "</table>\n",
       "<p>1176 rows × 6 columns</p>\n",
       "</div>"
      ],
      "text/plain": [
       "      Age  Height  weight  BMI  Class  \\\n",
       "0      48     4.1      86   40      1   \n",
       "1      53     4.1      91   42      1   \n",
       "2      42     4.1      95   44      1   \n",
       "3      48     4.1     100   46      1   \n",
       "4      22     4.1     104   48      1   \n",
       "...   ...     ...     ...  ...    ...   \n",
       "1171   50     6.9      59   14      5   \n",
       "1172   49     6.9      64   15      5   \n",
       "1173   52     6.9      68   16      5   \n",
       "1174   36     6.9      73   17      5   \n",
       "1175   26     6.9      77   18      5   \n",
       "\n",
       "                                             Prediction  \n",
       "0     Extremely obese--normal exercise+yoga+heavy di...  \n",
       "1     Extremely obese--normal exercise+yoga+heavy di...  \n",
       "2     Extremely obese--normal exercise+yoga+heavy di...  \n",
       "3     Extremely obese--normal exercise+yoga+heavy di...  \n",
       "4     Extremely obese--normal exercise+yoga+heavy di...  \n",
       "...                                                 ...  \n",
       "1171  Under weight--protines+carbs+normal weights ->...  \n",
       "1172  Under weight--protines+carbs+normal weights ->...  \n",
       "1173  Under weight--protines+carbs+normal weights ->...  \n",
       "1174  Under weight--protines+carbs+normal weights ->...  \n",
       "1175  Under weight--protines+carbs+normal weights ->...  \n",
       "\n",
       "[1176 rows x 6 columns]"
      ]
     },
     "execution_count": 75,
     "metadata": {},
     "output_type": "execute_result"
    }
   ],
   "source": [
    "df"
   ]
  },
  {
   "cell_type": "code",
   "execution_count": 76,
   "id": "c548b64a",
   "metadata": {},
   "outputs": [],
   "source": [
    "df.drop(['BMI','Class'],axis=1,inplace=True)"
   ]
  },
  {
   "cell_type": "code",
   "execution_count": 77,
   "id": "bc739bd1",
   "metadata": {},
   "outputs": [
    {
     "data": {
      "text/html": [
       "<div>\n",
       "<style scoped>\n",
       "    .dataframe tbody tr th:only-of-type {\n",
       "        vertical-align: middle;\n",
       "    }\n",
       "\n",
       "    .dataframe tbody tr th {\n",
       "        vertical-align: top;\n",
       "    }\n",
       "\n",
       "    .dataframe thead th {\n",
       "        text-align: right;\n",
       "    }\n",
       "</style>\n",
       "<table border=\"1\" class=\"dataframe\">\n",
       "  <thead>\n",
       "    <tr style=\"text-align: right;\">\n",
       "      <th></th>\n",
       "      <th>Age</th>\n",
       "      <th>Height</th>\n",
       "      <th>weight</th>\n",
       "      <th>Prediction</th>\n",
       "    </tr>\n",
       "  </thead>\n",
       "  <tbody>\n",
       "    <tr>\n",
       "      <th>0</th>\n",
       "      <td>48</td>\n",
       "      <td>4.1</td>\n",
       "      <td>86</td>\n",
       "      <td>Extremely obese--normal exercise+yoga+heavy di...</td>\n",
       "    </tr>\n",
       "    <tr>\n",
       "      <th>1</th>\n",
       "      <td>53</td>\n",
       "      <td>4.1</td>\n",
       "      <td>91</td>\n",
       "      <td>Extremely obese--normal exercise+yoga+heavy di...</td>\n",
       "    </tr>\n",
       "    <tr>\n",
       "      <th>2</th>\n",
       "      <td>42</td>\n",
       "      <td>4.1</td>\n",
       "      <td>95</td>\n",
       "      <td>Extremely obese--normal exercise+yoga+heavy di...</td>\n",
       "    </tr>\n",
       "    <tr>\n",
       "      <th>3</th>\n",
       "      <td>48</td>\n",
       "      <td>4.1</td>\n",
       "      <td>100</td>\n",
       "      <td>Extremely obese--normal exercise+yoga+heavy di...</td>\n",
       "    </tr>\n",
       "    <tr>\n",
       "      <th>4</th>\n",
       "      <td>22</td>\n",
       "      <td>4.1</td>\n",
       "      <td>104</td>\n",
       "      <td>Extremely obese--normal exercise+yoga+heavy di...</td>\n",
       "    </tr>\n",
       "    <tr>\n",
       "      <th>...</th>\n",
       "      <td>...</td>\n",
       "      <td>...</td>\n",
       "      <td>...</td>\n",
       "      <td>...</td>\n",
       "    </tr>\n",
       "    <tr>\n",
       "      <th>1171</th>\n",
       "      <td>50</td>\n",
       "      <td>6.9</td>\n",
       "      <td>59</td>\n",
       "      <td>Under weight--protines+carbs+normal weights -&gt;...</td>\n",
       "    </tr>\n",
       "    <tr>\n",
       "      <th>1172</th>\n",
       "      <td>49</td>\n",
       "      <td>6.9</td>\n",
       "      <td>64</td>\n",
       "      <td>Under weight--protines+carbs+normal weights -&gt;...</td>\n",
       "    </tr>\n",
       "    <tr>\n",
       "      <th>1173</th>\n",
       "      <td>52</td>\n",
       "      <td>6.9</td>\n",
       "      <td>68</td>\n",
       "      <td>Under weight--protines+carbs+normal weights -&gt;...</td>\n",
       "    </tr>\n",
       "    <tr>\n",
       "      <th>1174</th>\n",
       "      <td>36</td>\n",
       "      <td>6.9</td>\n",
       "      <td>73</td>\n",
       "      <td>Under weight--protines+carbs+normal weights -&gt;...</td>\n",
       "    </tr>\n",
       "    <tr>\n",
       "      <th>1175</th>\n",
       "      <td>26</td>\n",
       "      <td>6.9</td>\n",
       "      <td>77</td>\n",
       "      <td>Under weight--protines+carbs+normal weights -&gt;...</td>\n",
       "    </tr>\n",
       "  </tbody>\n",
       "</table>\n",
       "<p>1176 rows × 4 columns</p>\n",
       "</div>"
      ],
      "text/plain": [
       "      Age  Height  weight                                         Prediction\n",
       "0      48     4.1      86  Extremely obese--normal exercise+yoga+heavy di...\n",
       "1      53     4.1      91  Extremely obese--normal exercise+yoga+heavy di...\n",
       "2      42     4.1      95  Extremely obese--normal exercise+yoga+heavy di...\n",
       "3      48     4.1     100  Extremely obese--normal exercise+yoga+heavy di...\n",
       "4      22     4.1     104  Extremely obese--normal exercise+yoga+heavy di...\n",
       "...   ...     ...     ...                                                ...\n",
       "1171   50     6.9      59  Under weight--protines+carbs+normal weights ->...\n",
       "1172   49     6.9      64  Under weight--protines+carbs+normal weights ->...\n",
       "1173   52     6.9      68  Under weight--protines+carbs+normal weights ->...\n",
       "1174   36     6.9      73  Under weight--protines+carbs+normal weights ->...\n",
       "1175   26     6.9      77  Under weight--protines+carbs+normal weights ->...\n",
       "\n",
       "[1176 rows x 4 columns]"
      ]
     },
     "execution_count": 77,
     "metadata": {},
     "output_type": "execute_result"
    }
   ],
   "source": [
    "df"
   ]
  },
  {
   "cell_type": "code",
   "execution_count": 78,
   "id": "ec7937f5",
   "metadata": {},
   "outputs": [],
   "source": [
    "x_train, x_test, y_train, y_test = train_test_split(df.iloc[:,0:3],df.iloc[:,-1] ,test_size = 0.2, random_state=42)"
   ]
  },
  {
   "cell_type": "code",
   "execution_count": 79,
   "id": "240fe7d5",
   "metadata": {},
   "outputs": [
    {
     "data": {
      "text/plain": [
       "(940, 3)"
      ]
     },
     "execution_count": 79,
     "metadata": {},
     "output_type": "execute_result"
    }
   ],
   "source": [
    "x_train.shape"
   ]
  },
  {
   "cell_type": "code",
   "execution_count": 80,
   "id": "82732620",
   "metadata": {},
   "outputs": [
    {
     "data": {
      "text/plain": [
       "(940,)"
      ]
     },
     "execution_count": 80,
     "metadata": {},
     "output_type": "execute_result"
    }
   ],
   "source": [
    "y_train.shape"
   ]
  },
  {
   "cell_type": "code",
   "execution_count": 81,
   "id": "3e320d1c",
   "metadata": {},
   "outputs": [
    {
     "data": {
      "text/plain": [
       "LabelEncoder()"
      ]
     },
     "execution_count": 81,
     "metadata": {},
     "output_type": "execute_result"
    }
   ],
   "source": [
    "le=LabelEncoder()\n",
    "le.fit(y_train)"
   ]
  },
  {
   "cell_type": "code",
   "execution_count": 82,
   "id": "9759d111",
   "metadata": {},
   "outputs": [
    {
     "data": {
      "text/plain": [
       "array(['Extremely obese--normal exercise+yoga+heavy dite control+TIPS ->Obese',\n",
       "       'Healthy--fitness+protine+simple dite',\n",
       "       'Obese--slow lean+protine+full dite ->Overweight',\n",
       "       'Overweight--lean+cardio+protine+normal dite ->Healthy',\n",
       "       'Under weight--protines+carbs+normal weights ->Healthy'],\n",
       "      dtype=object)"
      ]
     },
     "execution_count": 82,
     "metadata": {},
     "output_type": "execute_result"
    }
   ],
   "source": [
    "le.classes_"
   ]
  },
  {
   "cell_type": "code",
   "execution_count": 111,
   "id": "2d8ff6d4",
   "metadata": {},
   "outputs": [
    {
     "data": {
      "text/plain": [
       "{}"
      ]
     },
     "execution_count": 111,
     "metadata": {},
     "output_type": "execute_result"
    }
   ],
   "source": [
    "le"
   ]
  },
  {
   "cell_type": "code",
   "execution_count": 83,
   "id": "bfeafee9",
   "metadata": {},
   "outputs": [],
   "source": [
    "y_train=le.transform(y_train)\n",
    "y_test=le.transform(y_test)"
   ]
  },
  {
   "cell_type": "code",
   "execution_count": 84,
   "id": "8886a359",
   "metadata": {},
   "outputs": [
    {
     "data": {
      "text/plain": [
       "(940,)"
      ]
     },
     "execution_count": 84,
     "metadata": {},
     "output_type": "execute_result"
    }
   ],
   "source": [
    "y_train.shape"
   ]
  },
  {
   "cell_type": "code",
   "execution_count": 92,
   "id": "bfbe0fbf",
   "metadata": {},
   "outputs": [],
   "source": [
    "lr=LogisticRegression(multi_class=\"multinomial\")\n",
    "knn=KNeighborsClassifier(n_neighbors=5)\n",
    "rf = RandomForestClassifier()\n",
    "dt=DecisionTreeClassifier()"
   ]
  },
  {
   "cell_type": "code",
   "execution_count": 93,
   "id": "146c702d",
   "metadata": {},
   "outputs": [
    {
     "name": "stderr",
     "output_type": "stream",
     "text": [
      "C:\\Users\\91829\\anaconda3\\lib\\site-packages\\sklearn\\linear_model\\_logistic.py:763: ConvergenceWarning: lbfgs failed to converge (status=1):\n",
      "STOP: TOTAL NO. of ITERATIONS REACHED LIMIT.\n",
      "\n",
      "Increase the number of iterations (max_iter) or scale the data as shown in:\n",
      "    https://scikit-learn.org/stable/modules/preprocessing.html\n",
      "Please also refer to the documentation for alternative solver options:\n",
      "    https://scikit-learn.org/stable/modules/linear_model.html#logistic-regression\n",
      "  n_iter_i = _check_optimize_result(\n"
     ]
    },
    {
     "data": {
      "text/plain": [
       "DecisionTreeClassifier()"
      ]
     },
     "execution_count": 93,
     "metadata": {},
     "output_type": "execute_result"
    }
   ],
   "source": [
    "lr.fit(x_train,y_train)\n",
    "knn.fit(x_train,y_train)\n",
    "rf.fit(x_train,y_train)\n",
    "dt.fit(x_train,y_train)\n",
    "\n"
   ]
  },
  {
   "cell_type": "code",
   "execution_count": 94,
   "id": "40d0c0d8",
   "metadata": {},
   "outputs": [],
   "source": [
    "y_p=lr.predict(x_test)\n",
    "y_p1=knn.predict(x_test)\n",
    "y_p2=rf.predict(x_test)\n",
    "y_p3=dt.predict(x_test)"
   ]
  },
  {
   "cell_type": "code",
   "execution_count": 95,
   "id": "28ca2a11",
   "metadata": {},
   "outputs": [
    {
     "name": "stdout",
     "output_type": "stream",
     "text": [
      "-------------------LOGISTICS REGRESSION-------------\n",
      "[[31  0 12  0  0]\n",
      " [ 0 32  0  7  7]\n",
      " [ 4  2 39 10  0]\n",
      " [ 0 10 12 19  0]\n",
      " [ 0  6  0  0 45]]\n",
      "              precision    recall  f1-score   support\n",
      "\n",
      "           0       0.89      0.72      0.79        43\n",
      "           1       0.64      0.70      0.67        46\n",
      "           2       0.62      0.71      0.66        55\n",
      "           3       0.53      0.46      0.49        41\n",
      "           4       0.87      0.88      0.87        51\n",
      "\n",
      "    accuracy                           0.70       236\n",
      "   macro avg       0.71      0.69      0.70       236\n",
      "weighted avg       0.71      0.70      0.70       236\n",
      "\n"
     ]
    },
    {
     "data": {
      "text/plain": [
       "0.7033898305084746"
      ]
     },
     "execution_count": 95,
     "metadata": {},
     "output_type": "execute_result"
    }
   ],
   "source": [
    "print(\"-------------------LOGISTICS REGRESSION-------------\")\n",
    "print(metrics.confusion_matrix(y_test,y_p))\n",
    "print(metrics.classification_report(y_test,y_p))\n",
    "accuracy_score(y_test,y_p)"
   ]
  },
  {
   "cell_type": "code",
   "execution_count": 96,
   "id": "24e615db",
   "metadata": {},
   "outputs": [
    {
     "name": "stdout",
     "output_type": "stream",
     "text": [
      "-------------------KNN------------\n",
      "[[25  3 15  0  0]\n",
      " [ 0 18 14  3 11]\n",
      " [16 13 22  3  1]\n",
      " [ 6 14 11  7  3]\n",
      " [ 0  8  3  4 36]]\n",
      "              precision    recall  f1-score   support\n",
      "\n",
      "           0       0.53      0.58      0.56        43\n",
      "           1       0.32      0.39      0.35        46\n",
      "           2       0.34      0.40      0.37        55\n",
      "           3       0.41      0.17      0.24        41\n",
      "           4       0.71      0.71      0.71        51\n",
      "\n",
      "    accuracy                           0.46       236\n",
      "   macro avg       0.46      0.45      0.44       236\n",
      "weighted avg       0.46      0.46      0.45       236\n",
      "\n"
     ]
    },
    {
     "data": {
      "text/plain": [
       "0.4576271186440678"
      ]
     },
     "execution_count": 96,
     "metadata": {},
     "output_type": "execute_result"
    }
   ],
   "source": [
    "print(\"-------------------KNN------------\")\n",
    "print(metrics.confusion_matrix(y_test,y_p1))\n",
    "print(metrics.classification_report(y_test,y_p1))\n",
    "accuracy_score(y_test,y_p1)"
   ]
  },
  {
   "cell_type": "code",
   "execution_count": 97,
   "id": "87e2e508",
   "metadata": {},
   "outputs": [
    {
     "name": "stdout",
     "output_type": "stream",
     "text": [
      "-------------------RANDOM FOREST-------------\n",
      "[[40  0  3  0  0]\n",
      " [ 0 38  3  2  3]\n",
      " [ 5  1 42  7  0]\n",
      " [ 0 14  2 25  0]\n",
      " [ 0  5  0  0 46]]\n",
      "              precision    recall  f1-score   support\n",
      "\n",
      "           0       0.89      0.93      0.91        43\n",
      "           1       0.66      0.83      0.73        46\n",
      "           2       0.84      0.76      0.80        55\n",
      "           3       0.74      0.61      0.67        41\n",
      "           4       0.94      0.90      0.92        51\n",
      "\n",
      "    accuracy                           0.81       236\n",
      "   macro avg       0.81      0.81      0.81       236\n",
      "weighted avg       0.82      0.81      0.81       236\n",
      "\n"
     ]
    },
    {
     "data": {
      "text/plain": [
       "0.809322033898305"
      ]
     },
     "execution_count": 97,
     "metadata": {},
     "output_type": "execute_result"
    }
   ],
   "source": [
    "print(\"-------------------RANDOM FOREST-------------\")\n",
    "print(metrics.confusion_matrix(y_test,y_p2))\n",
    "print(metrics.classification_report(y_test,y_p2))\n",
    "accuracy_score(y_test,y_p2)"
   ]
  },
  {
   "cell_type": "code",
   "execution_count": 98,
   "id": "662fe955",
   "metadata": {},
   "outputs": [
    {
     "name": "stdout",
     "output_type": "stream",
     "text": [
      "-------------------DECISION TREE-------------\n",
      "[[41  0  2  0  0]\n",
      " [ 0 40  3  1  2]\n",
      " [ 6  2 41  6  0]\n",
      " [ 0  8  4 29  0]\n",
      " [ 0  6  0  0 45]]\n",
      "              precision    recall  f1-score   support\n",
      "\n",
      "           0       0.87      0.95      0.91        43\n",
      "           1       0.71      0.87      0.78        46\n",
      "           2       0.82      0.75      0.78        55\n",
      "           3       0.81      0.71      0.75        41\n",
      "           4       0.96      0.88      0.92        51\n",
      "\n",
      "    accuracy                           0.83       236\n",
      "   macro avg       0.83      0.83      0.83       236\n",
      "weighted avg       0.84      0.83      0.83       236\n",
      "\n"
     ]
    },
    {
     "data": {
      "text/plain": [
       "0.8305084745762712"
      ]
     },
     "execution_count": 98,
     "metadata": {},
     "output_type": "execute_result"
    }
   ],
   "source": [
    "print(\"-------------------DECISION TREE-------------\")\n",
    "print(metrics.confusion_matrix(y_test,y_p3))\n",
    "print(metrics.classification_report(y_test,y_p3))\n",
    "accuracy_score(y_test,y_p3)"
   ]
  },
  {
   "cell_type": "code",
   "execution_count": 101,
   "id": "190f9703",
   "metadata": {},
   "outputs": [],
   "source": [
    "from sklearn.ensemble import VotingClassifier\n",
    "vc=VotingClassifier(estimators=[('lr',lr),('dt',dt),('rf',rf),('knn',knn)],voting='hard')\n",
    "vc1=VotingClassifier(estimators=[('lr',lr),('dt',dt),('rf',rf),('knn',knn)],voting='soft')"
   ]
  },
  {
   "cell_type": "code",
   "execution_count": 102,
   "id": "ab6630d4",
   "metadata": {},
   "outputs": [
    {
     "name": "stderr",
     "output_type": "stream",
     "text": [
      "C:\\Users\\91829\\anaconda3\\lib\\site-packages\\sklearn\\linear_model\\_logistic.py:763: ConvergenceWarning: lbfgs failed to converge (status=1):\n",
      "STOP: TOTAL NO. of ITERATIONS REACHED LIMIT.\n",
      "\n",
      "Increase the number of iterations (max_iter) or scale the data as shown in:\n",
      "    https://scikit-learn.org/stable/modules/preprocessing.html\n",
      "Please also refer to the documentation for alternative solver options:\n",
      "    https://scikit-learn.org/stable/modules/linear_model.html#logistic-regression\n",
      "  n_iter_i = _check_optimize_result(\n",
      "C:\\Users\\91829\\anaconda3\\lib\\site-packages\\sklearn\\linear_model\\_logistic.py:763: ConvergenceWarning: lbfgs failed to converge (status=1):\n",
      "STOP: TOTAL NO. of ITERATIONS REACHED LIMIT.\n",
      "\n",
      "Increase the number of iterations (max_iter) or scale the data as shown in:\n",
      "    https://scikit-learn.org/stable/modules/preprocessing.html\n",
      "Please also refer to the documentation for alternative solver options:\n",
      "    https://scikit-learn.org/stable/modules/linear_model.html#logistic-regression\n",
      "  n_iter_i = _check_optimize_result(\n"
     ]
    },
    {
     "data": {
      "text/plain": [
       "VotingClassifier(estimators=[('lr',\n",
       "                              LogisticRegression(multi_class='multinomial')),\n",
       "                             ('dt', DecisionTreeClassifier()),\n",
       "                             ('rf', RandomForestClassifier()),\n",
       "                             ('knn', KNeighborsClassifier())],\n",
       "                 voting='soft')"
      ]
     },
     "execution_count": 102,
     "metadata": {},
     "output_type": "execute_result"
    }
   ],
   "source": [
    "vc.fit(x_train,y_train)\n",
    "vc1.fit(x_train,y_train)"
   ]
  },
  {
   "cell_type": "code",
   "execution_count": 103,
   "id": "a9067e19",
   "metadata": {},
   "outputs": [],
   "source": [
    "y_pv=vc.predict(x_test)\n",
    "y_pv1=vc1.predict(x_test)"
   ]
  },
  {
   "cell_type": "code",
   "execution_count": 114,
   "id": "3c100ea8",
   "metadata": {},
   "outputs": [
    {
     "data": {
      "text/plain": [
       "0"
      ]
     },
     "execution_count": 114,
     "metadata": {},
     "output_type": "execute_result"
    }
   ],
   "source": [
    "a=vc.predict(np.array([45,4.1,86]).reshape(1,3))\n"
   ]
  },
  {
   "cell_type": "code",
   "execution_count": 104,
   "id": "02925c09",
   "metadata": {},
   "outputs": [
    {
     "name": "stdout",
     "output_type": "stream",
     "text": [
      "VOTING CLASSIFIER HARD:- 0.826271186440678\n",
      "VOTING CLASSIFIER SOFT:- 0.8177966101694916\n"
     ]
    }
   ],
   "source": [
    "#ENSEMBLE ACCURACY\n",
    "print(\"VOTING CLASSIFIER HARD:-\",accuracy_score(y_test,y_pv))\n",
    "print(\"VOTING CLASSIFIER SOFT:-\",accuracy_score(y_test,y_pv1))\n"
   ]
  },
  {
   "cell_type": "code",
   "execution_count": 105,
   "id": "19aac89c",
   "metadata": {},
   "outputs": [],
   "source": [
    "import pickle\n",
    "pickle_out=open(\"gym.pkl\",\"wb\")\n",
    "pickle.dump(vc,pickle_out)\n",
    "pickle_out.close()"
   ]
  },
  {
   "cell_type": "code",
   "execution_count": 109,
   "id": "5d61ce6e",
   "metadata": {},
   "outputs": [
    {
     "data": {
      "text/html": [
       "<div>\n",
       "<style scoped>\n",
       "    .dataframe tbody tr th:only-of-type {\n",
       "        vertical-align: middle;\n",
       "    }\n",
       "\n",
       "    .dataframe tbody tr th {\n",
       "        vertical-align: top;\n",
       "    }\n",
       "\n",
       "    .dataframe thead th {\n",
       "        text-align: right;\n",
       "    }\n",
       "</style>\n",
       "<table border=\"1\" class=\"dataframe\">\n",
       "  <thead>\n",
       "    <tr style=\"text-align: right;\">\n",
       "      <th></th>\n",
       "      <th>Age</th>\n",
       "      <th>Height</th>\n",
       "      <th>weight</th>\n",
       "      <th>Prediction</th>\n",
       "    </tr>\n",
       "  </thead>\n",
       "  <tbody>\n",
       "    <tr>\n",
       "      <th>0</th>\n",
       "      <td>48</td>\n",
       "      <td>4.1</td>\n",
       "      <td>86</td>\n",
       "      <td>Extremely obese--normal exercise+yoga+heavy di...</td>\n",
       "    </tr>\n",
       "    <tr>\n",
       "      <th>1</th>\n",
       "      <td>53</td>\n",
       "      <td>4.1</td>\n",
       "      <td>91</td>\n",
       "      <td>Extremely obese--normal exercise+yoga+heavy di...</td>\n",
       "    </tr>\n",
       "    <tr>\n",
       "      <th>2</th>\n",
       "      <td>42</td>\n",
       "      <td>4.1</td>\n",
       "      <td>95</td>\n",
       "      <td>Extremely obese--normal exercise+yoga+heavy di...</td>\n",
       "    </tr>\n",
       "    <tr>\n",
       "      <th>3</th>\n",
       "      <td>48</td>\n",
       "      <td>4.1</td>\n",
       "      <td>100</td>\n",
       "      <td>Extremely obese--normal exercise+yoga+heavy di...</td>\n",
       "    </tr>\n",
       "    <tr>\n",
       "      <th>4</th>\n",
       "      <td>22</td>\n",
       "      <td>4.1</td>\n",
       "      <td>104</td>\n",
       "      <td>Extremely obese--normal exercise+yoga+heavy di...</td>\n",
       "    </tr>\n",
       "    <tr>\n",
       "      <th>...</th>\n",
       "      <td>...</td>\n",
       "      <td>...</td>\n",
       "      <td>...</td>\n",
       "      <td>...</td>\n",
       "    </tr>\n",
       "    <tr>\n",
       "      <th>1171</th>\n",
       "      <td>50</td>\n",
       "      <td>6.9</td>\n",
       "      <td>59</td>\n",
       "      <td>Under weight--protines+carbs+normal weights -&gt;...</td>\n",
       "    </tr>\n",
       "    <tr>\n",
       "      <th>1172</th>\n",
       "      <td>49</td>\n",
       "      <td>6.9</td>\n",
       "      <td>64</td>\n",
       "      <td>Under weight--protines+carbs+normal weights -&gt;...</td>\n",
       "    </tr>\n",
       "    <tr>\n",
       "      <th>1173</th>\n",
       "      <td>52</td>\n",
       "      <td>6.9</td>\n",
       "      <td>68</td>\n",
       "      <td>Under weight--protines+carbs+normal weights -&gt;...</td>\n",
       "    </tr>\n",
       "    <tr>\n",
       "      <th>1174</th>\n",
       "      <td>36</td>\n",
       "      <td>6.9</td>\n",
       "      <td>73</td>\n",
       "      <td>Under weight--protines+carbs+normal weights -&gt;...</td>\n",
       "    </tr>\n",
       "    <tr>\n",
       "      <th>1175</th>\n",
       "      <td>26</td>\n",
       "      <td>6.9</td>\n",
       "      <td>77</td>\n",
       "      <td>Under weight--protines+carbs+normal weights -&gt;...</td>\n",
       "    </tr>\n",
       "  </tbody>\n",
       "</table>\n",
       "<p>1176 rows × 4 columns</p>\n",
       "</div>"
      ],
      "text/plain": [
       "      Age  Height  weight                                         Prediction\n",
       "0      48     4.1      86  Extremely obese--normal exercise+yoga+heavy di...\n",
       "1      53     4.1      91  Extremely obese--normal exercise+yoga+heavy di...\n",
       "2      42     4.1      95  Extremely obese--normal exercise+yoga+heavy di...\n",
       "3      48     4.1     100  Extremely obese--normal exercise+yoga+heavy di...\n",
       "4      22     4.1     104  Extremely obese--normal exercise+yoga+heavy di...\n",
       "...   ...     ...     ...                                                ...\n",
       "1171   50     6.9      59  Under weight--protines+carbs+normal weights ->...\n",
       "1172   49     6.9      64  Under weight--protines+carbs+normal weights ->...\n",
       "1173   52     6.9      68  Under weight--protines+carbs+normal weights ->...\n",
       "1174   36     6.9      73  Under weight--protines+carbs+normal weights ->...\n",
       "1175   26     6.9      77  Under weight--protines+carbs+normal weights ->...\n",
       "\n",
       "[1176 rows x 4 columns]"
      ]
     },
     "execution_count": 109,
     "metadata": {},
     "output_type": "execute_result"
    }
   ],
   "source": [
    "df"
   ]
  },
  {
   "cell_type": "code",
   "execution_count": null,
   "id": "bee182d1",
   "metadata": {},
   "outputs": [],
   "source": []
  }
 ],
 "metadata": {
  "kernelspec": {
   "display_name": "Python 3 (ipykernel)",
   "language": "python",
   "name": "python3"
  },
  "language_info": {
   "codemirror_mode": {
    "name": "ipython",
    "version": 3
   },
   "file_extension": ".py",
   "mimetype": "text/x-python",
   "name": "python",
   "nbconvert_exporter": "python",
   "pygments_lexer": "ipython3",
   "version": "3.9.7"
  }
 },
 "nbformat": 4,
 "nbformat_minor": 5
}
